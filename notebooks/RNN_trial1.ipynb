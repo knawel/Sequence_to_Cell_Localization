{
 "cells": [
  {
   "cell_type": "code",
   "execution_count": 1,
   "id": "3d199e57",
   "metadata": {},
   "outputs": [],
   "source": [
    "# import numpy as np\n",
    "# import pandas as pd\n",
    "# import sys, re, textwrap\n",
    "# import pickle\n",
    "# import lzma"
   ]
  },
  {
   "cell_type": "code",
   "execution_count": null,
   "id": "009de7a6",
   "metadata": {},
   "outputs": [],
   "source": [
    "# import time\n",
    "# import math"
   ]
  },
  {
   "cell_type": "code",
   "execution_count": 166,
   "id": "6a61ad13",
   "metadata": {},
   "outputs": [],
   "source": [
    "# import os\n",
    "# import random\n",
    "# from string import ascii_letters\n",
    "\n",
    "import torch\n",
    "from torch import nn\n",
    "import torch.nn.functional as F\n",
    "from torch.utils.data import random_split\n",
    "# from unidecode import unidecode"
   ]
  },
  {
   "cell_type": "code",
   "execution_count": 3,
   "id": "ab7b418c",
   "metadata": {},
   "outputs": [],
   "source": [
    "from data_handler import SeqDataset\n",
    "from model import Model\n",
    "from torch.utils.data import DataLoader"
   ]
  },
  {
   "cell_type": "code",
   "execution_count": 42,
   "id": "e57a6f22-284e-40b0-bb58-5018b930a728",
   "metadata": {},
   "outputs": [],
   "source": [
    "from src.data_encoding import encode_res, all_resnames,encode_location, selected_locations"
   ]
  },
  {
   "cell_type": "markdown",
   "id": "3967bca4",
   "metadata": {},
   "source": [
    "# Setup"
   ]
  },
  {
   "cell_type": "code",
   "execution_count": 30,
   "id": "5bd24582",
   "metadata": {},
   "outputs": [],
   "source": [
    "_ = torch.manual_seed(42)\n",
    "device = torch.device(\"cuda\" if torch.cuda.is_available() else \"cpu\")"
   ]
  },
  {
   "cell_type": "code",
   "execution_count": 29,
   "id": "7a2e84a5",
   "metadata": {},
   "outputs": [
    {
     "data": {
      "text/plain": [
       "device(type='cuda')"
      ]
     },
     "execution_count": 29,
     "metadata": {},
     "output_type": "execute_result"
    }
   ],
   "source": [
    "device"
   ]
  },
  {
   "cell_type": "markdown",
   "id": "4d31dc89",
   "metadata": {},
   "source": [
    "# Defs"
   ]
  },
  {
   "cell_type": "code",
   "execution_count": 8,
   "id": "86beb68f-c115-4326-bc6f-709a08980f69",
   "metadata": {},
   "outputs": [],
   "source": [
    "nres = 1024"
   ]
  },
  {
   "cell_type": "code",
   "execution_count": 9,
   "id": "c7e670bd",
   "metadata": {},
   "outputs": [],
   "source": [
    "dataset = SeqDataset(\"../data/data_seq_locations.xz\", nres_max=nres)"
   ]
  },
  {
   "cell_type": "code",
   "execution_count": 210,
   "id": "b332923b",
   "metadata": {},
   "outputs": [
    {
     "name": "stdout",
     "output_type": "stream",
     "text": [
      "length of the dataset is: 40011\n"
     ]
    }
   ],
   "source": [
    "print(\"length of the dataset is:\", len(dataset))"
   ]
  },
  {
   "cell_type": "code",
   "execution_count": 209,
   "id": "d95bdeb5",
   "metadata": {},
   "outputs": [],
   "source": [
    "train_dataset, test_dataset = random_split(dataset, [len(dataset)-2500, 2500])"
   ]
  },
  {
   "cell_type": "markdown",
   "id": "cd45b793",
   "metadata": {},
   "source": [
    "## Model"
   ]
  },
  {
   "cell_type": "code",
   "execution_count": 203,
   "id": "a1f3c068",
   "metadata": {},
   "outputs": [],
   "source": [
    "from torch.autograd import Variable\n",
    "class RNN(nn.Module):\n",
    "    def __init__(self, input_size, hidden_size, num_layers, num_classes, device):\n",
    "        super(RNN, self).__init__()\n",
    "        self.hidden_size = hidden_size\n",
    "        self.num_layers = num_layers\n",
    "        self.input_size = input_size\n",
    "        self.lstm = nn.LSTM(self.input_size, self.hidden_size, self.num_layers, \n",
    "                            batch_first=True, dropout=0.1)\n",
    "#         self.gru = nn.GRU(input_size, self.hidden_size, self.num_layers, batch_first=True, dropout=0.2)\n",
    "#         self.fc1 = nn.Linear(hidden_size, int(hidden_size/2))\n",
    "#         self.relu = nn.ReLU()\n",
    "#         self.fc2 = nn.Linear(int(hidden_size/2), int(hidden_size/2))\n",
    "#         self.fc3 = nn.Linear(int(hidden_size/2), num_classes)\n",
    "        self.hidden2tag = nn.Linear(self.hidden_size, num_classes)\n",
    "        self.device = device\n",
    "    \n",
    "    def forward(self, x):\n",
    "        x = x.float()\n",
    "        h0 = Variable(torch.zeros(self.num_layers, x.size(0), self.hidden_size).float()).to(self.device)\n",
    "        c0 = Variable(torch.zeros(self.num_layers, x.size(0), self.hidden_size).float()).to(self.device)\n",
    "        out, _ = self.lstm(x, (h0,c0)) \n",
    "#         out = self.relu(self.fc1(out[:, -1, :]))\n",
    "#         out = self.relu(self.fc2(out))\n",
    "#         out = self.fc3(out) \n",
    "        tag_space = self.hidden2tag(out[:, -1, :])\n",
    "        tag_scores = F.log_softmax(tag_space, dim=1)\n",
    "        return tag_scores"
   ]
  },
  {
   "cell_type": "code",
   "execution_count": 184,
   "id": "3fefd9ff",
   "metadata": {},
   "outputs": [],
   "source": [
    "n_letters = len(all_resnames)\n",
    "n_categories = len(selected_locations)\n",
    "learning_rate = 0.0002"
   ]
  },
  {
   "cell_type": "code",
   "execution_count": 204,
   "id": "c9ac6b7f",
   "metadata": {},
   "outputs": [],
   "source": [
    "model = RNN(nres, 64, 4, n_categories, device=device)\n",
    "model.to(device)\n",
    "\n",
    "criterion = nn.CrossEntropyLoss()\n",
    "optimizer = torch.optim.Adam(model.parameters(), lr=learning_rate)"
   ]
  },
  {
   "cell_type": "code",
   "execution_count": 199,
   "id": "d84c947d",
   "metadata": {},
   "outputs": [
    {
     "data": {
      "text/plain": [
       "<bound method Module.parameters of RNN(\n",
       "  (lstm): LSTM(1024, 64, num_layers=4, batch_first=True, dropout=0.1, bidirectional=True)\n",
       "  (hidden2tag): Linear(in_features=64, out_features=3, bias=True)\n",
       ")>"
      ]
     },
     "execution_count": 199,
     "metadata": {},
     "output_type": "execute_result"
    }
   ],
   "source": [
    "model.parameters"
   ]
  },
  {
   "cell_type": "markdown",
   "id": "cc272d08",
   "metadata": {},
   "source": [
    "### test the model\n"
   ]
  },
  {
   "cell_type": "code",
   "execution_count": 200,
   "id": "69aeccc7",
   "metadata": {},
   "outputs": [],
   "source": [
    "dataloader = DataLoader(train_dataset,batch_size=12)\n",
    "X = next(iter(dataloader))[0]"
   ]
  },
  {
   "cell_type": "code",
   "execution_count": 205,
   "id": "11938923",
   "metadata": {},
   "outputs": [
    {
     "data": {
      "text/plain": [
       "torch.Size([12, 26, 1024])"
      ]
     },
     "execution_count": 205,
     "metadata": {},
     "output_type": "execute_result"
    }
   ],
   "source": [
    "X = X.to(device)\n",
    "X.shape"
   ]
  },
  {
   "cell_type": "code",
   "execution_count": 206,
   "id": "ca853893",
   "metadata": {},
   "outputs": [
    {
     "data": {
      "text/plain": [
       "tensor([[-1.0955, -1.1213, -1.0795],\n",
       "        [-1.0969, -1.1208, -1.0786],\n",
       "        [-1.0953, -1.1209, -1.0800],\n",
       "        [-1.0948, -1.1231, -1.0784],\n",
       "        [-1.0958, -1.1211, -1.0794],\n",
       "        [-1.0938, -1.1227, -1.0798],\n",
       "        [-1.0957, -1.1226, -1.0781],\n",
       "        [-1.0959, -1.1211, -1.0793],\n",
       "        [-1.0950, -1.1214, -1.0799],\n",
       "        [-1.0939, -1.1219, -1.0805],\n",
       "        [-1.0961, -1.1232, -1.0770],\n",
       "        [-1.0928, -1.1250, -1.0786]], device='cuda:0',\n",
       "       grad_fn=<LogSoftmaxBackward0>)"
      ]
     },
     "execution_count": 206,
     "metadata": {},
     "output_type": "execute_result"
    }
   ],
   "source": [
    "model(X)"
   ]
  },
  {
   "cell_type": "markdown",
   "id": "b06e2901",
   "metadata": {},
   "source": [
    "## Train the model"
   ]
  },
  {
   "cell_type": "code",
   "execution_count": 207,
   "id": "127848b1",
   "metadata": {},
   "outputs": [],
   "source": [
    "def train_loop(dataloader, model, loss_fn, optimizer):\n",
    "    size = len(dataloader.dataset)\n",
    "    for batch, (X, Y) in enumerate(dataloader):\n",
    "        # Compute prediction and loss\n",
    "        x = X.to(device)\n",
    "        y = Y.to(device)\n",
    "        pred = model(x)\n",
    "        loss = loss_fn(pred, y)\n",
    "\n",
    "        # Backpropagation\n",
    "        optimizer.zero_grad()\n",
    "        loss.backward()\n",
    "        optimizer.step()\n",
    "\n",
    "        if batch % 100 == 0:\n",
    "            loss, current = loss.item(), batch * len(X)\n",
    "            print(f\"loss: {loss:>7f}  [{current:>5d}/{size:>5d}]\")\n",
    "\n",
    "\n",
    "def test_loop(dataloader, model, loss_fn):\n",
    "    size = len(dataloader.dataset)\n",
    "    num_batches = len(dataloader)\n",
    "    test_loss, correct = 0, 0\n",
    "\n",
    "    with torch.no_grad():\n",
    "        for X, Y in dataloader:\n",
    "            x = X.to(device)\n",
    "            y = Y.to(device)\n",
    "            pred = model(x)\n",
    "            test_loss += loss_fn(pred, y).item()\n",
    "#             correct += (pred.argmax(1) == y).type(torch.float).sum().item()\n",
    "\n",
    "    test_loss /= num_batches\n",
    "#     correct /= size\n",
    "#     print(f\"Test Error: \\n Accuracy: {(100*correct):>0.1f}%, Avg loss: {test_loss:>8f} \\n\")\n",
    "    print(f\"Avg loss: {test_loss:>8f} \\n\")"
   ]
  },
  {
   "cell_type": "code",
   "execution_count": 208,
   "id": "9e5a4994",
   "metadata": {
    "scrolled": true
   },
   "outputs": [
    {
     "name": "stdout",
     "output_type": "stream",
     "text": [
      "Epoch 1\n",
      "-------------------------------\n",
      "loss: 1.130861  [    0/40000]\n",
      "loss: 0.784507  [12800/40000]\n",
      "loss: 0.628886  [25600/40000]\n",
      "loss: 0.627706  [38400/40000]\n",
      "Avg loss: 0.581353 \n",
      "\n",
      "Epoch 2\n",
      "-------------------------------\n",
      "loss: 0.638634  [    0/40000]\n",
      "loss: 0.610565  [12800/40000]\n",
      "loss: 0.521188  [25600/40000]\n",
      "loss: 0.578767  [38400/40000]\n",
      "Avg loss: 0.534286 \n",
      "\n",
      "Epoch 3\n",
      "-------------------------------\n",
      "loss: 0.563192  [    0/40000]\n",
      "loss: 0.553189  [12800/40000]\n",
      "loss: 0.474341  [25600/40000]\n",
      "loss: 0.483876  [38400/40000]\n",
      "Avg loss: 0.496432 \n",
      "\n",
      "Epoch 4\n",
      "-------------------------------\n",
      "loss: 0.531569  [    0/40000]\n",
      "loss: 0.475931  [12800/40000]\n",
      "loss: 0.425616  [25600/40000]\n",
      "loss: 0.449872  [38400/40000]\n",
      "Avg loss: 0.475845 \n",
      "\n",
      "Epoch 5\n",
      "-------------------------------\n",
      "loss: 0.516523  [    0/40000]\n",
      "loss: 0.436519  [12800/40000]\n",
      "loss: 0.385129  [25600/40000]\n",
      "loss: 0.426171  [38400/40000]\n",
      "Avg loss: 0.473970 \n",
      "\n",
      "Epoch 6\n",
      "-------------------------------\n",
      "loss: 0.501593  [    0/40000]\n",
      "loss: 0.410181  [12800/40000]\n",
      "loss: 0.347360  [25600/40000]\n",
      "loss: 0.404870  [38400/40000]\n",
      "Avg loss: 0.478861 \n",
      "\n",
      "Epoch 7\n",
      "-------------------------------\n",
      "loss: 0.511864  [    0/40000]\n",
      "loss: 0.384975  [12800/40000]\n",
      "loss: 0.340158  [25600/40000]\n",
      "loss: 0.374321  [38400/40000]\n",
      "Avg loss: 0.460242 \n",
      "\n",
      "Epoch 8\n",
      "-------------------------------\n",
      "loss: 0.469028  [    0/40000]\n",
      "loss: 0.364348  [12800/40000]\n",
      "loss: 0.326128  [25600/40000]\n",
      "loss: 0.368804  [38400/40000]\n",
      "Avg loss: 0.503645 \n",
      "\n",
      "Epoch 9\n",
      "-------------------------------\n",
      "loss: 0.461366  [    0/40000]\n",
      "loss: 0.351888  [12800/40000]\n",
      "loss: 0.295860  [25600/40000]\n",
      "loss: 0.356798  [38400/40000]\n",
      "Avg loss: 0.465562 \n",
      "\n",
      "Epoch 10\n",
      "-------------------------------\n",
      "loss: 0.439790  [    0/40000]\n",
      "loss: 0.341365  [12800/40000]\n",
      "loss: 0.313796  [25600/40000]\n",
      "loss: 0.369815  [38400/40000]\n",
      "Avg loss: 0.447210 \n",
      "\n",
      "Epoch 11\n",
      "-------------------------------\n",
      "loss: 0.452345  [    0/40000]\n",
      "loss: 0.316868  [12800/40000]\n",
      "loss: 0.302985  [25600/40000]\n",
      "loss: 0.328583  [38400/40000]\n",
      "Avg loss: 0.448767 \n",
      "\n",
      "Epoch 12\n",
      "-------------------------------\n",
      "loss: 0.454903  [    0/40000]\n",
      "loss: 0.323580  [12800/40000]\n",
      "loss: 0.288442  [25600/40000]\n",
      "loss: 0.319170  [38400/40000]\n",
      "Avg loss: 0.455513 \n",
      "\n",
      "Epoch 13\n",
      "-------------------------------\n",
      "loss: 0.433017  [    0/40000]\n",
      "loss: 0.283836  [12800/40000]\n",
      "loss: 0.244250  [25600/40000]\n",
      "loss: 0.314408  [38400/40000]\n",
      "Avg loss: 0.459762 \n",
      "\n",
      "Epoch 14\n",
      "-------------------------------\n",
      "loss: 0.401272  [    0/40000]\n",
      "loss: 0.298894  [12800/40000]\n",
      "loss: 0.274598  [25600/40000]\n",
      "loss: 0.298550  [38400/40000]\n",
      "Avg loss: 0.468509 \n",
      "\n",
      "Epoch 15\n",
      "-------------------------------\n",
      "loss: 0.394500  [    0/40000]\n",
      "loss: 0.281974  [12800/40000]\n",
      "loss: 0.326635  [25600/40000]\n",
      "loss: 0.294910  [38400/40000]\n",
      "Avg loss: 0.489809 \n",
      "\n",
      "Epoch 16\n",
      "-------------------------------\n",
      "loss: 0.409790  [    0/40000]\n",
      "loss: 0.286004  [12800/40000]\n",
      "loss: 0.240994  [25600/40000]\n",
      "loss: 0.313259  [38400/40000]\n",
      "Avg loss: 0.495371 \n",
      "\n",
      "Epoch 17\n",
      "-------------------------------\n",
      "loss: 0.380802  [    0/40000]\n",
      "loss: 0.273719  [12800/40000]\n",
      "loss: 0.218182  [25600/40000]\n",
      "loss: 0.299742  [38400/40000]\n",
      "Avg loss: 0.504372 \n",
      "\n",
      "Epoch 18\n",
      "-------------------------------\n",
      "loss: 0.385692  [    0/40000]\n",
      "loss: 0.266074  [12800/40000]\n",
      "loss: 0.269594  [25600/40000]\n",
      "loss: 0.293850  [38400/40000]\n",
      "Avg loss: 0.525334 \n",
      "\n",
      "Epoch 19\n",
      "-------------------------------\n",
      "loss: 0.415049  [    0/40000]\n",
      "loss: 0.256852  [12800/40000]\n",
      "loss: 0.222157  [25600/40000]\n",
      "loss: 0.275105  [38400/40000]\n",
      "Avg loss: 0.578370 \n",
      "\n",
      "Epoch 20\n",
      "-------------------------------\n",
      "loss: 0.426396  [    0/40000]\n",
      "loss: 0.243843  [12800/40000]\n",
      "loss: 0.211638  [25600/40000]\n",
      "loss: 0.310636  [38400/40000]\n",
      "Avg loss: 0.567030 \n",
      "\n",
      "Done!\n"
     ]
    }
   ],
   "source": [
    "loss_fn = nn.CrossEntropyLoss()\n",
    "train_dataloader = DataLoader(train_dataset,batch_size=128)\n",
    "test_dataloader = DataLoader(test_dataset,batch_size=256)\n",
    "\n",
    "epochs = 20\n",
    "for t in range(epochs):\n",
    "    print(f\"Epoch {t+1}\\n-------------------------------\")\n",
    "    train_loop(train_dataloader, model, loss_fn, optimizer)\n",
    "    test_loop(test_dataloader, model, loss_fn)\n",
    "print(\"Done!\")"
   ]
  },
  {
   "cell_type": "code",
   "execution_count": 102,
   "id": "5b67fd55",
   "metadata": {},
   "outputs": [],
   "source": [
    "dataloader = DataLoader(train_dataset,batch_size=20)\n",
    "x,y = next(iter(dataloader))\n",
    "x = x.to(device)"
   ]
  },
  {
   "cell_type": "code",
   "execution_count": 103,
   "id": "6a7801a3",
   "metadata": {},
   "outputs": [],
   "source": [
    "with torch.no_grad():\n",
    "    y_pred = model(x)\n",
    "y_pred\n",
    "a = torch.rand(2,3)"
   ]
  },
  {
   "cell_type": "code",
   "execution_count": 104,
   "id": "b81da5e0",
   "metadata": {},
   "outputs": [
    {
     "name": "stderr",
     "output_type": "stream",
     "text": [
      "/tmp/ipykernel_55578/4274709322.py:2: UserWarning: Implicit dimension choice for softmax has been deprecated. Change the call to include dim=X as an argument.\n",
      "  b(y_pred).round()\n"
     ]
    },
    {
     "data": {
      "text/plain": [
       "tensor([[1., 0., 0.],\n",
       "        [1., 0., 0.],\n",
       "        [1., 0., 0.],\n",
       "        [1., 0., 0.],\n",
       "        [1., 0., 0.],\n",
       "        [1., 0., 0.],\n",
       "        [0., 0., 1.],\n",
       "        [0., 0., 1.],\n",
       "        [1., 0., 0.],\n",
       "        [0., 0., 0.],\n",
       "        [1., 0., 0.],\n",
       "        [1., 0., 0.],\n",
       "        [1., 0., 0.],\n",
       "        [0., 0., 1.],\n",
       "        [1., 0., 0.],\n",
       "        [1., 0., 0.],\n",
       "        [0., 0., 1.],\n",
       "        [1., 0., 0.],\n",
       "        [1., 0., 0.],\n",
       "        [1., 0., 0.]], device='cuda:0')"
      ]
     },
     "execution_count": 104,
     "metadata": {},
     "output_type": "execute_result"
    }
   ],
   "source": [
    "b = nn.Softmax()\n",
    "b(y_pred).round()"
   ]
  },
  {
   "cell_type": "code",
   "execution_count": 105,
   "id": "b1580c34",
   "metadata": {},
   "outputs": [
    {
     "data": {
      "text/plain": [
       "tensor([[1., 0., 0.],\n",
       "        [1., 0., 0.],\n",
       "        [1., 0., 0.],\n",
       "        [1., 0., 0.],\n",
       "        [1., 0., 0.],\n",
       "        [1., 0., 0.],\n",
       "        [0., 1., 1.],\n",
       "        [0., 1., 1.],\n",
       "        [1., 0., 0.],\n",
       "        [1., 0., 0.],\n",
       "        [1., 0., 0.],\n",
       "        [1., 0., 0.],\n",
       "        [0., 0., 0.],\n",
       "        [1., 1., 1.],\n",
       "        [1., 0., 0.],\n",
       "        [1., 0., 0.],\n",
       "        [0., 1., 0.],\n",
       "        [1., 0., 0.],\n",
       "        [1., 0., 0.],\n",
       "        [0., 1., 1.]], dtype=torch.float64)"
      ]
     },
     "execution_count": 105,
     "metadata": {},
     "output_type": "execute_result"
    }
   ],
   "source": [
    "y"
   ]
  }
 ],
 "metadata": {
  "kernelspec": {
   "display_name": "Python 3 (ipykernel)",
   "language": "python",
   "name": "python3"
  },
  "language_info": {
   "codemirror_mode": {
    "name": "ipython",
    "version": 3
   },
   "file_extension": ".py",
   "mimetype": "text/x-python",
   "name": "python",
   "nbconvert_exporter": "python",
   "pygments_lexer": "ipython3",
   "version": "3.10.5"
  }
 },
 "nbformat": 4,
 "nbformat_minor": 5
}
