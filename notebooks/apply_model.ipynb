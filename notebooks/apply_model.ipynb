{
 "cells": [
  {
   "cell_type": "code",
   "execution_count": 1,
   "id": "5c47495f",
   "metadata": {},
   "outputs": [
    {
     "name": "stderr",
     "output_type": "stream",
     "text": [
      "/home/dima/miniconda3/envs/ctpesto/lib/python3.10/site-packages/tqdm/auto.py:22: TqdmWarning: IProgress not found. Please update jupyter and ipywidgets. See https://ipywidgets.readthedocs.io/en/stable/user_install.html\n",
      "  from .autonotebook import tqdm as notebook_tqdm\n"
     ]
    }
   ],
   "source": [
    "# global libs\n",
    "import torch as pt\n",
    "from glob import glob\n",
    "import os\n",
    "# import sys"
   ]
  },
  {
   "cell_type": "code",
   "execution_count": 3,
   "id": "5a14c490",
   "metadata": {},
   "outputs": [],
   "source": [
    "# project libs\n",
    "from src.data_encoding import encode_res, all_resnames, selected_locations, encode_location\n",
    "from config import config_data, config_runtime\n",
    "from model import RNN\n",
    "from src.dataset import fasta_to_vector, read_fasta"
   ]
  },
  {
   "cell_type": "markdown",
   "id": "2919a425",
   "metadata": {},
   "source": [
    "# Load model"
   ]
  },
  {
   "cell_type": "code",
   "execution_count": 4,
   "id": "c016e015",
   "metadata": {},
   "outputs": [],
   "source": [
    "# define \n",
    "nres = config_data['sequence_max_length']\n",
    "device = pt.device(\"cpu\")\n",
    "n_letters = len(all_resnames)\n",
    "n_categories = len(selected_locations)\n",
    "learning_rate = config_runtime['learning_rate']\n",
    "n_hidden = config_runtime['hidden_size']\n",
    "n_layers = config_runtime['layers']\n",
    "# create model\n",
    "model = RNN(nres, n_hidden, n_layers, n_categories, device)\n",
    "# reload model\n",
    "model.load_state_dict(pt.load(\"model.pt\", map_location=pt.device(\"cpu\")))\n",
    "# set model to inference\n",
    "model = model.eval().to(device)"
   ]
  },
  {
   "cell_type": "code",
   "execution_count": 5,
   "id": "069d1535",
   "metadata": {},
   "outputs": [],
   "source": [
    "# data parameters\n",
    "\n",
    "data_path = \"../examples/\"\n",
    "sm = pt.nn.Softmax(dim=1)"
   ]
  },
  {
   "cell_type": "code",
   "execution_count": 6,
   "id": "ec1d377c",
   "metadata": {},
   "outputs": [],
   "source": [
    "pdb_filepaths = glob(os.path.join(data_path, \"*.*\"))"
   ]
  },
  {
   "cell_type": "code",
   "execution_count": 7,
   "id": "c693d7d9",
   "metadata": {},
   "outputs": [
    {
     "name": "stdout",
     "output_type": "stream",
     "text": [
      "\n",
      "=====   SAR1_YEAST    ====\n",
      "membrane        p= 1.00\n",
      "cytoplasm       p= 0.00\n",
      "nucle           p= 0.00\n",
      "vesicl          p= 0.00\n",
      "\n",
      "=====   CCL20_MOUSE   ====\n",
      "membrane        p= 1.00\n",
      "cytoplasm       p= 0.00\n",
      "nucle           p= 0.00\n",
      "vesicl          p= 0.00\n",
      "\n",
      "=====   GID4_MOUSE    ====\n",
      "membrane        p= 1.00\n",
      "cytoplasm       p= 0.00\n",
      "nucle           p= 0.00\n",
      "vesicl          p= 0.00\n",
      "\n",
      "=====   HDAC3_DANRE   ====\n",
      "membrane        p= 1.00\n",
      "cytoplasm       p= 0.00\n",
      "nucle           p= 0.00\n",
      "vesicl          p= 0.00\n",
      "\n",
      "=====    XCL1_RAT     ====\n",
      "membrane        p= 0.81\n",
      "cytoplasm       p= 0.12\n",
      "nucle           p= 0.06\n",
      "vesicl          p= 0.01\n",
      "\n",
      "=====   ICP27_HHV1E   ====\n",
      "membrane        p= 0.03\n",
      "cytoplasm       p= 0.13\n",
      "nucle           p= 0.83\n",
      "vesicl          p= 0.01\n",
      "\n",
      "=====   MCL1_MOUSE    ====\n",
      "membrane        p= 0.55\n",
      "cytoplasm       p= 0.28\n",
      "nucle           p= 0.14\n",
      "vesicl          p= 0.02\n",
      "\n",
      "=====   FTSZ_BACSU    ====\n",
      "membrane        p= 0.04\n",
      "cytoplasm       p= 0.24\n",
      "nucle           p= 0.70\n",
      "vesicl          p= 0.02\n",
      "\n",
      "=====   MIM2_SCHPO    ====\n",
      "membrane        p= 0.91\n",
      "cytoplasm       p= 0.05\n",
      "nucle           p= 0.03\n",
      "vesicl          p= 0.01\n",
      "\n",
      "=====    ACKR2_RAT    ====\n",
      "membrane        p= 1.00\n",
      "cytoplasm       p= 0.00\n",
      "nucle           p= 0.00\n",
      "vesicl          p= 0.00\n",
      "\n",
      "=====   CLD1_MOUSE    ====\n",
      "membrane        p= 1.00\n",
      "cytoplasm       p= 0.00\n",
      "nucle           p= 0.00\n",
      "vesicl          p= 0.00\n",
      "\n",
      "=====    DELE1_RAT    ====\n",
      "membrane        p= 0.02\n",
      "cytoplasm       p= 0.12\n",
      "nucle           p= 0.84\n",
      "vesicl          p= 0.01\n",
      "\n",
      "=====    CCR2_RAT     ====\n",
      "membrane        p= 1.00\n",
      "cytoplasm       p= 0.00\n",
      "nucle           p= 0.00\n",
      "vesicl          p= 0.00\n",
      "\n",
      "=====    IL24_RAT     ====\n",
      "membrane        p= 1.00\n",
      "cytoplasm       p= 0.00\n",
      "nucle           p= 0.00\n",
      "vesicl          p= 0.00\n",
      "\n",
      "=====   AP2C_HUMAN    ====\n",
      "membrane        p= 0.01\n",
      "cytoplasm       p= 0.11\n",
      "nucle           p= 0.87\n",
      "vesicl          p= 0.01\n",
      "\n",
      "=====   FBX32_HUMAN   ====\n",
      "membrane        p= 0.58\n",
      "cytoplasm       p= 0.28\n",
      "nucle           p= 0.12\n",
      "vesicl          p= 0.02\n",
      "\n",
      "=====   RM10_BOVIN    ====\n",
      "membrane        p= 0.03\n",
      "cytoplasm       p= 0.19\n",
      "nucle           p= 0.77\n",
      "vesicl          p= 0.01\n"
     ]
    }
   ],
   "source": [
    "all_vec = []\n",
    "all_names = []\n",
    "for fasta_file in pdb_filepaths:\n",
    "    a,b = read_fasta(fasta_file)\n",
    "    \n",
    "    v = fasta_to_vector(a, nres)\n",
    "    \n",
    "    if not(v is None):\n",
    "        with pt.no_grad():\n",
    "            results = sm(model(v))[0]\n",
    "        print()\n",
    "        print(f'===== {b: ^15} ====')\n",
    "        j = results.detach().numpy()\n",
    "\n",
    "        for il, l in enumerate(selected_locations):\n",
    "            print(f'{l: <15} p={j[il]:>5.2f}')"
   ]
  }
 ],
 "metadata": {
  "kernelspec": {
   "display_name": "Python 3 (ipykernel)",
   "language": "python",
   "name": "python3"
  },
  "language_info": {
   "codemirror_mode": {
    "name": "ipython",
    "version": 3
   },
   "file_extension": ".py",
   "mimetype": "text/x-python",
   "name": "python",
   "nbconvert_exporter": "python",
   "pygments_lexer": "ipython3",
   "version": "3.10.5"
  }
 },
 "nbformat": 4,
 "nbformat_minor": 5
}
