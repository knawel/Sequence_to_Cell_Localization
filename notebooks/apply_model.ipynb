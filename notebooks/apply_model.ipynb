{
 "cells": [
  {
   "cell_type": "code",
   "execution_count": 4,
   "id": "f8b41539",
   "metadata": {},
   "outputs": [],
   "source": [
    "import os\n",
    "import sys\n",
    "import h5py\n",
    "import json\n",
    "import numpy as np\n",
    "import torch as pt\n",
    "import pandas as pd\n",
    "import matplotlib.pyplot as plt\n",
    "from tqdm import tqdm\n",
    "from glob import glob\n",
    "\n",
    "import pickle\n",
    "import lzma\n",
    "\n",
    "# from src.dataset import StructuresDataset, collate_batch_features, select_by_sid, select_by_interface_types\n",
    "from src.data_encoding import encode_res, all_resnames, selected_locations, encode_location\n",
    "from config import config_data, config_runtime\n",
    "from model import RNN\n",
    "from data_handler import FastaDataset\n",
    "from torch.utils.data import DataLoader\n",
    "# from src.structure import data_to_structure, encode_bfactor, concatenate_chains, split_by_chain\n",
    "# from src.structure_io import save_pdb, read_pdb\n",
    "# from src.scoring import bc_scoring, bc_score_names"
   ]
  },
  {
   "cell_type": "code",
   "execution_count": 5,
   "id": "495838a6",
   "metadata": {},
   "outputs": [],
   "source": [
    "with lzma.open(\"../data/data_seq_locations.xz\", \"r\") as f:\n",
    "    combined_data = pickle.load(f)\n",
    "   "
   ]
  },
  {
   "cell_type": "code",
   "execution_count": 6,
   "id": "1231bd0e",
   "metadata": {},
   "outputs": [],
   "source": [
    "enc_loc_list = []\n",
    "for i, l in enumerate(combined_data['loc']):\n",
    "    e_l = encode_location(l)\n",
    "    enc_loc_list.append(e_l)\n",
    "enc_loc_np = np.array(enc_loc_list)"
   ]
  },
  {
   "cell_type": "code",
   "execution_count": 7,
   "id": "cb7adbe3",
   "metadata": {},
   "outputs": [
    {
     "name": "stdout",
     "output_type": "stream",
     "text": [
      "[32348  5633 12110  6942  5633]\n",
      "['membrane', 'cytoplasm', 'mitochondrion', 'nucleus', 'cytoplasm']\n"
     ]
    }
   ],
   "source": [
    "print(np.sum(enc_loc_np, axis =0))\n",
    "print(selected_locations)\n"
   ]
  },
  {
   "cell_type": "code",
   "execution_count": 8,
   "id": "069d1535",
   "metadata": {},
   "outputs": [],
   "source": [
    "# data parameters\n",
    "nres = 1024\n",
    "data_path = \"../examples/\"\n"
   ]
  },
  {
   "cell_type": "code",
   "execution_count": null,
   "id": "ec1d377c",
   "metadata": {},
   "outputs": [],
   "source": [
    "%ls \"../examples/\""
   ]
  },
  {
   "cell_type": "code",
   "execution_count": 9,
   "id": "3df1c99a",
   "metadata": {},
   "outputs": [],
   "source": [
    "dast_ds = FastaDataset(data_path, nres)\n",
    "# fast_dl = DataLoader(dast_ds, batch_size=dast_ds.__len__())"
   ]
  },
  {
   "cell_type": "code",
   "execution_count": 10,
   "id": "50e33cd1",
   "metadata": {},
   "outputs": [],
   "source": [
    "# define \n",
    "device = pt.device(\"cpu\")\n",
    "\n",
    "\n",
    "n_letters = len(all_resnames)\n",
    "n_categories = len(selected_locations)\n",
    "learning_rate = config_runtime['learning_rate']\n",
    "n_hidden = config_runtime['hidden_size']\n",
    "n_layers = config_runtime['layers']\n",
    "\n",
    "# create model\n",
    "model = RNN(nres, n_hidden, n_layers, n_categories, device)\n",
    "# reload model\n",
    "model.load_state_dict(pt.load(\"model.pt\", map_location=pt.device(\"cpu\")))\n",
    "# set model to inference\n",
    "model = model.eval().to(device)"
   ]
  },
  {
   "cell_type": "code",
   "execution_count": null,
   "id": "bfa8fc9d",
   "metadata": {},
   "outputs": [],
   "source": [
    "# dast_ds.getall()"
   ]
  },
  {
   "cell_type": "code",
   "execution_count": 11,
   "id": "35604782",
   "metadata": {},
   "outputs": [],
   "source": [
    "ids = dast_ds.getall()[0]\n",
    "sm = pt.nn.Softmax(dim=1)\n",
    "results = sm(model(dast_ds.getall()[1]))"
   ]
  },
  {
   "cell_type": "code",
   "execution_count": 12,
   "id": "8694306b",
   "metadata": {},
   "outputs": [
    {
     "name": "stdout",
     "output_type": "stream",
     "text": [
      "\n",
      "===== CCL20_MOUSE ====\n",
      "membrane, p=0.42\n",
      "cytoplasm, p=0.18\n",
      "mitochondrion, p=0.09\n",
      "nucleus, p=0.13\n",
      "cytoplasm, p=0.17\n",
      "\n",
      "===== GID4_MOUSE ====\n",
      "membrane, p=0.77\n",
      "cytoplasm, p=0.07\n",
      "mitochondrion, p=0.06\n",
      "nucleus, p=0.04\n",
      "cytoplasm, p=0.07\n",
      "\n",
      "===== XCL1_RAT ====\n",
      "membrane, p=0.31\n",
      "cytoplasm, p=0.21\n",
      "mitochondrion, p=0.03\n",
      "nucleus, p=0.23\n",
      "cytoplasm, p=0.21\n",
      "\n",
      "===== NUP62_MOUSE ====\n",
      "membrane, p=0.04\n",
      "cytoplasm, p=0.19\n",
      "mitochondrion, p=0.01\n",
      "nucleus, p=0.56\n",
      "cytoplasm, p=0.20\n",
      "\n",
      "===== MCL1_MOUSE ====\n",
      "membrane, p=0.74\n",
      "cytoplasm, p=0.08\n",
      "mitochondrion, p=0.05\n",
      "nucleus, p=0.04\n",
      "cytoplasm, p=0.08\n",
      "\n",
      "===== FTSZ_BACSU ====\n",
      "membrane, p=0.42\n",
      "cytoplasm, p=0.20\n",
      "mitochondrion, p=0.07\n",
      "nucleus, p=0.12\n",
      "cytoplasm, p=0.19\n",
      "\n",
      "===== MIM2_SCHPO ====\n",
      "membrane, p=0.22\n",
      "cytoplasm, p=0.24\n",
      "mitochondrion, p=0.04\n",
      "nucleus, p=0.26\n",
      "cytoplasm, p=0.24\n",
      "\n",
      "===== ACKR2_RAT ====\n",
      "membrane, p=0.96\n",
      "cytoplasm, p=0.00\n",
      "mitochondrion, p=0.03\n",
      "nucleus, p=0.00\n",
      "cytoplasm, p=0.00\n",
      "\n",
      "===== TOM5_YEAST ====\n",
      "membrane, p=0.38\n",
      "cytoplasm, p=0.18\n",
      "mitochondrion, p=0.05\n",
      "nucleus, p=0.20\n",
      "cytoplasm, p=0.18\n",
      "\n",
      "===== CCR2_RAT ====\n",
      "membrane, p=0.93\n",
      "cytoplasm, p=0.01\n",
      "mitochondrion, p=0.05\n",
      "nucleus, p=0.00\n",
      "cytoplasm, p=0.01\n",
      "\n",
      "===== IL24_RAT ====\n",
      "membrane, p=0.86\n",
      "cytoplasm, p=0.02\n",
      "mitochondrion, p=0.08\n",
      "nucleus, p=0.01\n",
      "cytoplasm, p=0.02\n"
     ]
    }
   ],
   "source": [
    "for i, ii in enumerate(ids):\n",
    "    print()\n",
    "    print(f'===== {ii} ====')\n",
    "    j = results[i].detach().numpy()\n",
    "    for il, l in enumerate(selected_locations):\n",
    "        print(f'{l}, p={j[il]:.2f}')\n",
    "        "
   ]
  }
 ],
 "metadata": {
  "kernelspec": {
   "display_name": "Python 3 (ipykernel)",
   "language": "python",
   "name": "python3"
  },
  "language_info": {
   "codemirror_mode": {
    "name": "ipython",
    "version": 3
   },
   "file_extension": ".py",
   "mimetype": "text/x-python",
   "name": "python",
   "nbconvert_exporter": "python",
   "pygments_lexer": "ipython3",
   "version": "3.10.5"
  }
 },
 "nbformat": 4,
 "nbformat_minor": 5
}
