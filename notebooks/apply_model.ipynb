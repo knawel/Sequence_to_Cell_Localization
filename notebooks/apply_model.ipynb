{
 "cells": [
  {
   "cell_type": "code",
   "execution_count": 1,
   "id": "5c47495f",
   "metadata": {},
   "outputs": [
    {
     "name": "stderr",
     "output_type": "stream",
     "text": [
      "/home/dima/miniconda3/envs/ctpesto/lib/python3.10/site-packages/tqdm/auto.py:22: TqdmWarning: IProgress not found. Please update jupyter and ipywidgets. See https://ipywidgets.readthedocs.io/en/stable/user_install.html\n",
      "  from .autonotebook import tqdm as notebook_tqdm\n"
     ]
    }
   ],
   "source": [
    "# global libs\n",
    "import torch as pt\n",
    "from glob import glob\n",
    "import os\n",
    "import numpy as np\n",
    "# import sys"
   ]
  },
  {
   "cell_type": "code",
   "execution_count": 2,
   "id": "5a14c490",
   "metadata": {},
   "outputs": [],
   "source": [
    "# project libs\n",
    "from src.data_encoding import encode_res, all_resnames, selected_locations, encode_location\n",
    "from config import config_data, config_runtime\n",
    "from model import RNN\n",
    "from src.dataset import fasta_to_vector, read_fasta, SeqDataset"
   ]
  },
  {
   "cell_type": "markdown",
   "id": "2919a425",
   "metadata": {},
   "source": [
    "# Load model"
   ]
  },
  {
   "cell_type": "code",
   "execution_count": 3,
   "id": "c016e015",
   "metadata": {},
   "outputs": [],
   "source": [
    "# define \n",
    "nres = config_data['sequence_max_length']\n",
    "device = pt.device(\"cpu\")\n",
    "n_letters = len(all_resnames)\n",
    "n_categories = len(selected_locations)\n",
    "learning_rate = config_runtime['learning_rate']\n",
    "n_hidden = config_runtime['hidden_size']\n",
    "n_layers = config_runtime['layers']\n",
    "# create model\n",
    "model = RNN(nres, n_hidden, n_layers, n_categories, device)\n",
    "# reload model\n",
    "model.load_state_dict(pt.load(\"model.pt\", map_location=pt.device(\"cpu\")))\n",
    "# set model to inference\n",
    "model = model.eval().to(device)\n",
    "sm = pt.nn.Softmax(dim=1)"
   ]
  },
  {
   "cell_type": "code",
   "execution_count": 4,
   "id": "df2ecf7a",
   "metadata": {},
   "outputs": [],
   "source": [
    "n_seq = config_data['sequence_max_length']\n",
    "dataset = SeqDataset(config_data['dataset_filepath'], n_seq)"
   ]
  },
  {
   "cell_type": "code",
   "execution_count": 5,
   "id": "0e41f4af",
   "metadata": {},
   "outputs": [
    {
     "data": {
      "text/plain": [
       "['membrane', 'nucle']"
      ]
     },
     "execution_count": 5,
     "metadata": {},
     "output_type": "execute_result"
    }
   ],
   "source": [
    "selected_locations"
   ]
  },
  {
   "cell_type": "code",
   "execution_count": 6,
   "id": "4050c059",
   "metadata": {},
   "outputs": [],
   "source": [
    "\n",
    "TP = np.zeros(len(selected_locations))\n",
    "FP = np.zeros(len(selected_locations))\n",
    "TN = np.zeros(len(selected_locations))\n",
    "FN = np.zeros(len(selected_locations))\n",
    "P = np.zeros(len(selected_locations))\n",
    "N = np.zeros(len(selected_locations))\n",
    "threshold = 0.5\n",
    "#34607\n",
    "for i in range(34607):\n",
    "    x,y = dataset[i]\n",
    "    X = x[None, :]\n",
    "    results = sm(model(X))[0].detach().numpy()\n",
    "    bin_results = results > threshold\n",
    "    \n",
    "    bin_results = bin_results.astype(int)\n",
    "    bin_y = y.detach().numpy().astype(int)\n",
    "    \n",
    "    TP += (bin_results == 1) & (bin_y == 1)\n",
    "    FP += (bin_results == 1) & (bin_y == 0)\n",
    "    TN += (bin_results == 0) & (bin_y == 0)\n",
    "    FN += (bin_results == 0) & (bin_y == 1)\n",
    "    P += (bin_y == 1)\n",
    "    N += (bin_y == 0)\n"
   ]
  },
  {
   "cell_type": "code",
   "execution_count": 7,
   "id": "4b6fece9",
   "metadata": {},
   "outputs": [],
   "source": [
    "ACC = (TP+TN)/(P+N)\n",
    "TPR = TP/P\n",
    "TNR = TN/N"
   ]
  },
  {
   "cell_type": "code",
   "execution_count": 8,
   "id": "b4496176",
   "metadata": {},
   "outputs": [
    {
     "data": {
      "text/plain": [
       "array([0.72878642, 0.75851449])"
      ]
     },
     "execution_count": 8,
     "metadata": {},
     "output_type": "execute_result"
    }
   ],
   "source": [
    "BA = 0.5*(TPR + TNR)\n",
    "BA"
   ]
  },
  {
   "cell_type": "code",
   "execution_count": 13,
   "id": "2d59c16c",
   "metadata": {},
   "outputs": [
    {
     "data": {
      "text/plain": [
       "array([1124., 1980.])"
      ]
     },
     "execution_count": 13,
     "metadata": {},
     "output_type": "execute_result"
    }
   ],
   "source": [
    "FN"
   ]
  },
  {
   "cell_type": "code",
   "execution_count": 14,
   "id": "069d1535",
   "metadata": {},
   "outputs": [],
   "source": [
    "# data parameters\n",
    "\n",
    "data_path = \"../examples/\"\n",
    "sm = pt.nn.Softmax(dim=1)"
   ]
  },
  {
   "cell_type": "code",
   "execution_count": 15,
   "id": "ec1d377c",
   "metadata": {},
   "outputs": [],
   "source": [
    "pdb_filepaths = glob(os.path.join(data_path, \"*.*\"))"
   ]
  },
  {
   "cell_type": "code",
   "execution_count": 16,
   "id": "c693d7d9",
   "metadata": {},
   "outputs": [
    {
     "name": "stdout",
     "output_type": "stream",
     "text": [
      "\n",
      "=====   SAR1_YEAST    ====\n",
      "membrane        p= 0.57\n",
      "nucle           p= 0.43\n",
      "\n",
      "=====   CCL20_MOUSE   ====\n",
      "membrane        p= 0.81\n",
      "nucle           p= 0.19\n",
      "\n",
      "=====   GID4_MOUSE    ====\n",
      "membrane        p= 1.00\n",
      "nucle           p= 0.00\n",
      "\n",
      "=====   HDAC3_DANRE   ====\n",
      "membrane        p= 0.91\n",
      "nucle           p= 0.09\n",
      "\n",
      "=====    XCL1_RAT     ====\n",
      "membrane        p= 0.76\n",
      "nucle           p= 0.24\n",
      "\n",
      "=====   ICP27_HHV1E   ====\n",
      "membrane        p= 0.23\n",
      "nucle           p= 0.77\n",
      "\n",
      "=====   MCL1_MOUSE    ====\n",
      "membrane        p= 0.95\n",
      "nucle           p= 0.05\n",
      "\n",
      "=====   FTSZ_BACSU    ====\n",
      "membrane        p= 0.35\n",
      "nucle           p= 0.65\n",
      "\n",
      "=====   MIM2_SCHPO    ====\n",
      "membrane        p= 0.63\n",
      "nucle           p= 0.37\n",
      "\n",
      "=====    ACKR2_RAT    ====\n",
      "membrane        p= 1.00\n",
      "nucle           p= 0.00\n",
      "\n",
      "=====   CLD1_MOUSE    ====\n",
      "membrane        p= 0.91\n",
      "nucle           p= 0.09\n",
      "\n",
      "=====    DELE1_RAT    ====\n",
      "membrane        p= 0.33\n",
      "nucle           p= 0.67\n",
      "\n",
      "=====    CCR2_RAT     ====\n",
      "membrane        p= 1.00\n",
      "nucle           p= 0.00\n",
      "\n",
      "=====    IL24_RAT     ====\n",
      "membrane        p= 0.96\n",
      "nucle           p= 0.04\n",
      "\n",
      "=====   AP2C_HUMAN    ====\n",
      "membrane        p= 0.05\n",
      "nucle           p= 0.95\n",
      "\n",
      "=====   FBX32_HUMAN   ====\n",
      "membrane        p= 0.98\n",
      "nucle           p= 0.02\n",
      "\n",
      "=====   RM10_BOVIN    ====\n",
      "membrane        p= 0.59\n",
      "nucle           p= 0.41\n"
     ]
    }
   ],
   "source": [
    "all_vec = []\n",
    "all_names = []\n",
    "for fasta_file in pdb_filepaths:\n",
    "    a,b = read_fasta(fasta_file)\n",
    "    \n",
    "    v = fasta_to_vector(a, nres)\n",
    "    \n",
    "    if not(v is None):\n",
    "        with pt.no_grad():\n",
    "            results = sm(model(v))[0]\n",
    "        print()\n",
    "        print(f'===== {b: ^15} ====')\n",
    "        j = results.detach().numpy()\n",
    "\n",
    "        for il, l in enumerate(selected_locations):\n",
    "            print(f'{l: <15} p={j[il]:>5.2f}')"
   ]
  }
 ],
 "metadata": {
  "kernelspec": {
   "display_name": "Python 3 (ipykernel)",
   "language": "python",
   "name": "python3"
  },
  "language_info": {
   "codemirror_mode": {
    "name": "ipython",
    "version": 3
   },
   "file_extension": ".py",
   "mimetype": "text/x-python",
   "name": "python",
   "nbconvert_exporter": "python",
   "pygments_lexer": "ipython3",
   "version": "3.10.5"
  }
 },
 "nbformat": 4,
 "nbformat_minor": 5
}
